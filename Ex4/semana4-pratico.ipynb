{
  "cells": [
    {
      "cell_type": "markdown",
      "metadata": {
        "id": "BRGRh7hL1vzP"
      },
      "source": [
        "#### **Exercício 01**\n",
        "Seja $T:\\mathbb{R}^2 \\to \\mathbb{R}^2$ a transformação linear tal que $T(1,0) = (cos\\;\\theta,\\;sen\\;\\theta)$ e $T(0,1) = (-sen\\;\\theta,\\;cos\\;\\theta)$, com $\\theta \\in \\mathbb{R}$.\n",
        "\n",
        "- Determine a transformação $T$ e sua matriz na base canônica.\n",
        "- Implemente uma função que recebe um parâmetro $\\theta$ e retorna a matriz da transformação $T$.\n",
        "- Aplique essa transformação no triângulo de vértices $(-1,1)$, $(1,1)$ e $(0,1)$ com $\\theta=\\pi / 4$ e visualize o resultado. O que você pode observar em relação a transformação $T$ ?"
      ]
    },
    {
      "cell_type": "code",
      "execution_count": 2,
      "metadata": {},
      "outputs": [],
      "source": [
        "# Import das bibliotecas\n",
        "import numpy as np\n",
        "import matplotlib.pyplot as plt"
      ]
    },
    {
      "cell_type": "markdown",
      "metadata": {},
      "source": [
        "**Transformação T**\n",
        "\n",
        "$B = {(1,0), (0,1)}$ é base em $\\mathbb{R}^2$. Logo:\n",
        "\n",
        "$(x,y) \\in \\mathbb{R}^2 \\therefore (x,y)  = \\alpha (1,0) + \\beta (0,1)$\n",
        "\n",
        "$\\alpha = x$ e $\\beta = y$.\n",
        "\n",
        "$T(x,y) = x T(1,0) + y T(0,1) = x (\\cos \\theta, \\sin \\theta) + y (- \\sin \\theta, \\cos \\theta)$\n",
        "\n",
        "$T(x,y) = (x \\cos \\theta - y \\sin \\theta, x \\sin \\theta + y \\cos \\theta) $"
      ]
    },
    {
      "cell_type": "code",
      "execution_count": 3,
      "metadata": {
        "id": "mAOx4IIf1zuA"
      },
      "outputs": [],
      "source": [
        "# Matriz transformação T\n",
        "def T (x, y, t):\n",
        "    return [x * np.cos(t) - y * np.sin(t), x * np.sin(t) + y * np.cos(t)]"
      ]
    },
    {
      "cell_type": "markdown",
      "metadata": {},
      "source": [
        "**Matriz na Base Canônica**\n",
        "\n",
        "$T(x,y) = [T]_{\\text{can}} \\begin{pmatrix} x \\\\ y \\end{pmatrix}$\n",
        "\n",
        "$\\begin{pmatrix}  \\cos \\theta - y \\sin \\theta && x \\sin \\theta + y \\cos \\theta \\end{pmatrix} = [T]_{\\text{can}} \\begin{pmatrix} x \\\\ y \\end{pmatrix}$\n",
        "\n",
        "$[T]_{\\text{can}} = \\begin{pmatrix} \\alpha && \\beta \\\\ \\gamma && \\delta \\end{pmatrix}$\n",
        "\n",
        "$\\begin{cases}\n",
        "    x \\alpha + y \\beta = x \\cos \\theta - y \\sin \\theta \\\\\n",
        "    x \\gamma + y \\theta = x \\sin \\theta + y \\cos \\theta\n",
        "\\end{cases}$\n",
        "\n",
        "$\\begin{cases}\n",
        "    \\alpha = \\cos \\theta \\\\\n",
        "    \\beta = - \\sin \\theta \\\\\n",
        "    \\gamma = \\sin \\theta \\\\\n",
        "    \\delta = \\cos \\theta\n",
        "\\end{cases}$\n",
        "\n",
        "$[T]_{\\text{can}} = \\begin{pmatrix} \\cos \\theta && - \\sin \\theta \\\\  \\sin \\theta && \\cos \\theta \\end{pmatrix}$"
      ]
    },
    {
      "cell_type": "code",
      "execution_count": 4,
      "metadata": {},
      "outputs": [],
      "source": [
        "# Matriz de T na base canônica\n",
        "def matriz_T_can (t):\n",
        "    return [[np.cos(t), -(np.sin(t))], [np.sin(t), np.cos(t)]]"
      ]
    },
    {
      "cell_type": "code",
      "execution_count": 5,
      "metadata": {},
      "outputs": [],
      "source": [
        "# Aplicando a transformação no triângulo de vértices (-1,1), (1,1) e (0,1), sendo t = pi/4\n",
        "\n",
        "theta = np.pi / 4\n",
        "\n",
        "# Vértices originais\n",
        "v1_orig = np.array([-1, 1])\n",
        "v2_orig = np.array([1, 1])\n",
        "v3_orig = np.array([0, 0])\n",
        "\n",
        "# Fechando o triângulo\n",
        "original = np.array([[v1_orig[0], v2_orig[0], v3_orig[0], v1_orig[0]], \n",
        "                     [v1_orig[1], v2_orig[1], v3_orig[1], v1_orig[1]]])\n",
        "\n",
        "# Vértices transformados\n",
        "v1_trans = np.array(T(v1_orig[0], v1_orig[1], theta))\n",
        "v2_trans = np.array(T(v2_orig[0], v2_orig[1], theta))\n",
        "v3_trans = np.array(T(v3_orig[0], v3_orig[1], theta))\n",
        "\n",
        "# Fechando o triângulo\n",
        "vertices = np.array([[v1_trans[0], v2_trans[0], v3_trans[0], v1_trans[0]], \n",
        "                        [v1_trans[1], v2_trans[1], v3_trans[1], v1_trans[1]]])"
      ]
    },
    {
      "cell_type": "code",
      "execution_count": 6,
      "metadata": {},
      "outputs": [
        {
          "data": {
            "text/plain": [
              "<matplotlib.legend.Legend at 0x762b6fba14b0>"
            ]
          },
          "execution_count": 6,
          "metadata": {},
          "output_type": "execute_result"
        },
        {
          "data": {
            "image/png": "[encoded data removed]",
            "text/plain": [
              "<Figure size 640x480 with 1 Axes>"
            ]
          },
          "metadata": {},
          "output_type": "display_data"
        }
      ],
      "source": [
        "# Visualização\n",
        "\n",
        "fig, ax = plt.subplots()\n",
        "\n",
        "# Plot dos triângulos\n",
        "ax.plot(original[0], original[1], label='Original')\n",
        "ax.plot(vertices[0], vertices[1], label='Transformado')\n",
        "\n",
        "ax.legend()"
      ]
    },
    {
      "cell_type": "markdown",
      "metadata": {},
      "source": [
        "**T é uma matriz de rotação.**"
      ]
    },
    {
      "cell_type": "markdown",
      "metadata": {
        "id": "iGcn4PCb1yvP"
      },
      "source": [
        "#### **Exercício 02**\n",
        "Determine uma transformação linear $T:\\mathbb{R}^5 \\to \\mathbb{R}^3$ tal que $Im(T) = [(1,0,0),(0,1,0),(1,1,1)]$ e $Ker(T) = [(1,1,1,1,1),(1,1,1,1,0)]$."
      ]
    },
    {
      "cell_type": "markdown",
      "metadata": {},
      "source": [
        "Seja $B = {b_1, b_2, b_3, b_4, b_5}$ uma base em $\\mathbb{R}^2$, $b_i \\in \\mathbb{R}$. Queremos saber a matriz que leva qualquer vetor em $B$ para $\\mathbb{R}^2$. Já sabemos que $(1,1,1,1,1)$ e $(1,1,1,1,0)$ obedecem a $T$ e são LI entre si já que compõem o núclero de $T$.\n",
        "\n",
        "$B = {(1,1,1,1,1), (1,1,1,1,0), b_3, b_4, b_5}$.\n",
        "\n",
        "Vamos completar $T$ com vetores arbitrários de $\\mathbb{R}^5$ que são LI entre si e com o resto de $B$. Vamos escolher $(1,0,0,0,0), (0,1,0,0,0), (0,0,1,0,0)$.\n",
        "\n",
        "$B = {(1,1,1,1,1), (1,1,1,1,0), (1,0,0,0,0), (0,1,0,0,0), (0,0,1,0,0)}$.\n",
        "\n",
        "Como $b_1$ e $b_2$ compõem a base de $T$:\n",
        "\n",
        "$\\begin{cases}\n",
        "    T(b_1) = 0 \\\\\n",
        "    T(b_2) = 0\n",
        "\\end{cases}$\n",
        "\n",
        "Como $b_3$, $b_4$ e $b_5$ compõem a imagem de $T$:\n",
        "\n",
        "$\\begin{cases}\n",
        "    T(b_3) = (1, 0, 0) \\\\\n",
        "    T(b_4) = (0, 1, 0) \\\\\n",
        "    T(b_5) = (1, 1, 1)\n",
        "\\end{cases}$\n",
        "\n",
        "Pegando $(x,y,z,w,k) \\in \\mathbb{R}$, temos\n",
        "\n",
        "$(x,y,z,w,k) = \\alpha (1,0,0,0,0) + \\beta (0,1,0,0,0) + \\delta (0,0,1,0,0) + \\gamma (1,1,1,1,0) + \\theta (1,1,1,1,1)$\n",
        "\n",
        "\n",
        "$\\begin{cases}\n",
        "    \\alpha = x - w \\\\\n",
        "    \\beta = y - w \\\\\n",
        "    \\delta = z - w \\\\\n",
        "    \\gamma = w - k \\\\\n",
        "    \\theta = k\n",
        "\\end{cases}$\n",
        "\n",
        "$T(x,y,z,w,k) = (x - w) T(1,0,0,0,0) + (y - w) T(0,1,0,0,0) + (z - w) T(0,0,1,0,0) + (w - k) T(1,1,1,1,0) + (k) T(1,1,1,1,1)$\n",
        "\n",
        "$T(x,y,z,w,k) = (x - w) (1,0,0)+ (y - w) (0,1,0) + (z - w) (1,1,1) + (w - k) 0 + (k) 0$\n",
        "\n",
        "$T(x,y,z,w,k) = (x + z - 2w, y + z - 2w, z - w) = \\begin{pmatrix} 1 && 0 && 1 && -2 && 0 \\\\ 0 && 1 && 1 && -2 && 0 \\\\ 0 && 0 && 1 && -1 && 0 \\end{pmatrix}$\n"
      ]
    }
  ],
  "metadata": {
    "colab": {
      "provenance": []
    },
    "kernelspec": {
      "display_name": "Python 3",
      "name": "python3"
    },
    "language_info": {
      "codemirror_mode": {
        "name": "ipython",
        "version": 3
      },
      "file_extension": ".py",
      "mimetype": "text/x-python",
      "name": "python",
      "nbconvert_exporter": "python",
      "pygments_lexer": "ipython3",
      "version": "3.10.12"
    }
  },
  "nbformat": 4,
  "nbformat_minor": 0
}
