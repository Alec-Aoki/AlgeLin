{
  "nbformat": 4,
  "nbformat_minor": 0,
  "metadata": {
    "colab": {
      "provenance": []
    },
    "kernelspec": {
      "name": "python3",
      "display_name": "Python 3"
    },
    "language_info": {
      "name": "python"
    }
  },
  "cells": [
    {
      "cell_type": "markdown",
      "source": [
        "# **SME0142 - Álgebra Linear e Aplicações**\n",
        "Docente: Cynthia de Oliveira Lage Ferreira\n",
        "\n",
        "\n",
        "# **Trabalho Prático**\n",
        "Outubro de 2025\n",
        "\n",
        "# Aluno:\n",
        "\n",
        "# Orientações Gerais\n",
        "\n",
        "*   Esta avaliação é **individual ou em dupla** e deverá ser desenvolvida na plataforma Colab (https://colab.research.google.com/).\n",
        "\n",
        "*   Cada aluno/dupla deverá produzir um arquivo .ipynb contendo as soluções dos exercícios. Sejam organizados !\n",
        "\n",
        "*   Os arquivos deverão estar identificados por **NOMEDOALUNO1NoUSP-NOMEDOALUNO2NoUSP.ipynb** a fim de facilitar a organização das atividades pela professora.\n",
        "\n",
        "*  Os arquivos deverão ser enviados **até às 20h do dia 18/10/2025** através da plataforma e-disciplinas da USP (https://edisciplinas.usp.br/). **Os arquivos recebidos por e-mail não serão corrigidos.** Arquivos enviados fora do prazo também não serão corrigidos!\n",
        "\n",
        "*   Apenas os alunos que estiverem com a **situação regularizada no Sistema Jupiter** terão suas avaliações corrigidas.\n",
        "\n",
        "*  Todos os códigos utilizados para resolver os problemas deverão ser apresentados, executados e minimamente comentados. **Questões com respostas sem justificativas não serão consideradas.**\n",
        "\n",
        "**BOM TRABALHO!**"
      ],
      "metadata": {
        "id": "B5PZXBjOwnTC"
      }
    },
    {
      "cell_type": "code",
      "source": [
        "#Bibliotecas Utilizadas\n",
        "import numpy as np\n",
        "import matplotlib.pyplot as plt\n",
        "import networkx as nx\n",
        "import pandas as pd"
      ],
      "metadata": {
        "id": "5BexU-0dxZQ5"
      },
      "execution_count": null,
      "outputs": []
    },
    {
      "cell_type": "markdown",
      "source": [
        "# **Exercício 1**\n",
        "Considere o espaço vetorial real $\\mathbb{R}^2$. Sejam as transformações\n",
        "- $T_1:\\mathbb{R}^2 \\to \\mathbb{R}^2$ tal que $T_1(x,y)=(-x,y)$ - **reflexão em torno do eixo $oy$**;\n",
        "- $T_2:\\mathbb{R}^2 \\to \\mathbb{R}^2$ tal que a matriz da transformação é dada por\n",
        "$$[T_2] = \\begin{bmatrix} 1 & k \\\\ 0 & 1 \\end{bmatrix},$$\n",
        "com $k\\in\\mathbb{R}$ - **cisalhamento horizontal**.\n",
        "\n",
        "a) Aplique as transformações $T_1$ e $T_2$ no quadrado de vértices $(0,0)$, $(1,0)$, $(1,1)$ e $(0,1)$ considerando o parâmetro $k= -0,5$ e visualize os resultados.\n",
        "\n",
        "b) Determine a matriz da transformação $T_3$ que primeiro faz um cisalhamento horizontal com $k=-0.5$ mapeando $e_2$ em $e_2 - 0.5e_1$ ($e_1$ se mantém inalterado) e então reflete o resultado em torno do eixo $oy$. **Dica:** Determine a posição final das imagens de $e_1$ e $e_2$.\n",
        "\n",
        "c) Qual a relação entre as matrizes $[T_1]$, $[T_2]$ e a matriz da transformação $[T_3]$ obtida no item anterior?\n",
        "\n",
        "d) Determine a transformação de reflexão em torno do eixo $ox$ e a transformação de cisalhamento vertical."
      ],
      "metadata": {
        "id": "Ug43yvau01qY"
      }
    },
    {
      "cell_type": "code",
      "source": [
        "# Solução 1\n",
        "# Vértices do quadrado\n",
        "\n",
        "Q = np.array([[0,0],[1,0],[1,1],[0,1]]).T\n",
        "\n",
        "# Reflexão em torno do eixo y\n",
        "# (-x,y) = x(-1,0) + y(0,1)\n",
        "T1 =\n",
        "\n",
        "# Cisalhamento horizontal\n",
        "T2 =\n",
        "\n",
        "# Aplicando as transformações\n",
        "T1Q =\n",
        "T2Q =\n",
        "\n",
        "def plotSimples(vx, vy):\n",
        "  plt.figure(figsize=(6,6))\n",
        "  plt.axis([-2, 2, -2, 2])\n",
        "  plt.plot([-2,2], [0,0], 'k--', alpha=0.75)\n",
        "  plt.plot([0,0], [-2,2],'k--', alpha=0.75)\n",
        "  plt.plot(vx, vy, 'k')\n",
        "  plt.plot([vx[0], vx[-1]], [vy[0], vy[-1]], 'k')\n",
        "  plt.plot(vx, vy, 'bo')\n",
        "  plt.grid('True')\n",
        "\n",
        "# Plots\n",
        "plotSimples(Q[0,:], Q[1,:])\n",
        "plt.title('Vértices originais')\n",
        "\n",
        "plotSimples(T1Q[0,:], T1Q[1,:])\n",
        "plt.title('Reflexão')\n",
        "\n",
        "plotSimples(T2Q[0,:], T2Q[1,:])\n",
        "plt.title('Cisalhamento')"
      ],
      "metadata": {
        "id": "8hPXtW8LmLLU"
      },
      "execution_count": null,
      "outputs": []
    },
    {
      "cell_type": "code",
      "source": [
        "#Solução 2)\n",
        "# Observando as posições finais de e1 e e2 temos:\n",
        "# T3(1,0) = (-1,0)\n",
        "# T3(0,1) = (0.5,1)\n",
        "T3 =\n",
        "print(T3)\n",
        "\n",
        "# Solução 3)\n",
        "# Por outro lado, aplicando T2, depois T1\n",
        "\n",
        "\n",
        "# Solução 4)\n",
        "# Reflexão em torno do eixo x\n",
        "T4 =\n",
        "\n",
        "# Cisalhamento vertical\n",
        "T5 =\n",
        "\n",
        "# Aplicando as transformações\n",
        "T4Q =\n",
        "T5Q =\n",
        "\n",
        "# Plots\n",
        "plotSimples(T4Q[0,:], T4Q[1,:])\n",
        "plt.title('Reflexão em x')\n",
        "\n",
        "plotSimples(T5Q[0,:], T5Q[1,:])\n",
        "plt.title('Cisalhamento vertical')"
      ],
      "metadata": {
        "id": "eVC3sD1Wmj00"
      },
      "execution_count": null,
      "outputs": []
    },
    {
      "cell_type": "markdown",
      "source": [
        "# **Exercício 2**\n",
        "Considere a transformação $T:R^7 \\rightarrow R^3$ linear dada pela matriz\n",
        "\n",
        "$$\n",
        "\\left(\\begin{array}{ccccccc}\n",
        "3 & 9 & 6 & 6 & 9 & 3 & 1\\\\\n",
        "2 & 0 & 9 & 2 & 0 & 5 & 3\\\\\n",
        "0 & 0 & 1 & 0 & 1 & 0 & 2\n",
        "\\end{array}\\right)\n",
        "$$\n",
        "\n",
        "a) Qual a dimensão do núcleo e da imagem da transformação? Faça um código para determinar a dimensão da imagem e conclua, então, a dimensão do núcleo.\n",
        "\n",
        "b) Encontre uma base para o espaço núcleo.\n",
        "\n",
        "c) Faça um código para verificar que a base encontrada está gerando o núcleo."
      ],
      "metadata": {
        "id": "W9OlCLzSzhkJ"
      }
    },
    {
      "cell_type": "code",
      "source": [
        "B = np.asarray([[3, 9, 6, 6, 9, 3, 1],\n",
        "                [2, 0, 9, 2, 0, 5, 3],\n",
        "                [0, 0, 1 , 0, 1, 0, 2]])\n",
        "\n"
      ],
      "metadata": {
        "id": "ZPSn2rAPkyM2"
      },
      "execution_count": null,
      "outputs": []
    },
    {
      "cell_type": "markdown",
      "source": [
        "# **Exercício 3**\n",
        "\n",
        "a) Dada uma base qualquer de um subespaço vetorial do $R^{n}$, escreva um código para encontrar uma base ortonormal para este subespaço. Teste o seu código para a base dada pelas colunas da matriz  **V**  gerada no código abaixo.\n",
        "\n",
        "b) Faça um teste para verificar que a base obtida é de fato ortonormal."
      ],
      "metadata": {
        "id": "4Cu3SshMxa7K"
      }
    },
    {
      "cell_type": "code",
      "source": [
        "V = np.random.randint(0,20,size=(20,10))\n",
        "print(V)"
      ],
      "metadata": {
        "colab": {
          "base_uri": "https://localhost:8080/"
        },
        "id": "_ss1xiAdxo74",
        "outputId": "251ae907-8c7e-44c8-96a3-98010505ed77"
      },
      "execution_count": null,
      "outputs": [
        {
          "output_type": "stream",
          "name": "stdout",
          "text": [
            "[[12  2 17 15  1 19  9 11 12 11]\n",
            " [ 9  9  3  1 11 19 19 17  4 17]\n",
            " [15 17  1  6 18 18 18  7 19 11]\n",
            " [ 7  3  4 13 19 10  9  7  5  3]\n",
            " [13 19  4  2  1 11 15  2 15 16]\n",
            " [16  5  1  4 17 11  1  7  9 12]\n",
            " [15 16  4 10 14 13 16  7 16 18]\n",
            " [14 10  3 13 12 10 17  6 13 13]\n",
            " [ 8  4  9  6 17  2  9 10  3  7]\n",
            " [16  9  1 19  3  6  4  4  7  4]\n",
            " [13 13 13  5 14 18 12 16  1 11]\n",
            " [ 2  6  8 14 15  1  1 15  4  7]\n",
            " [ 1 15  6  0  6 13  4 15  7  3]\n",
            " [11  9  9 12 19 17 11 16 17 10]\n",
            " [ 3  4  3 15 10 12  4 17 12  4]\n",
            " [ 7  6  9 17 16  3 16 19 12  4]\n",
            " [14  3  2  3 18  9 17 19  3  9]\n",
            " [ 0  9 11 16  1  4  6 15 14 10]\n",
            " [18  4 19 13 11 16  3 18 19  1]\n",
            " [10  2  2 17  8  0 15 10 15 14]]\n"
          ]
        }
      ]
    },
    {
      "cell_type": "code",
      "source": [
        "# a) Ortonormalização de uma base qualquer dada e teste do código em V\n",
        "\n",
        "def gram_schmidt(x):\n",
        "\n",
        "\n",
        "Q = gram_schmidt(V)\n",
        "\n",
        "\n",
        "# b) Teste que verifica se a base obtida é de fato ortonormal\n",
        "\n"
      ],
      "metadata": {
        "id": "r5iDnSwDx19x"
      },
      "execution_count": null,
      "outputs": []
    },
    {
      "cell_type": "markdown",
      "source": [
        "# **Exercício 4**\n",
        "\n",
        "\n",
        "Considere a seguinte rede não direcionada composta por 12 nós, com conexões definidas pela matriz de adjacência abaixo (os nós estão numerados de 1 a 12).\n",
        "\n",
        "A rede foi construída com o objetivo de evidenciar a diferença entre duas medidas de centralidade: **centralidade de grau** e **centralidade de autovalor**.\n",
        "\n",
        "### **Matriz de Adjacência**\n",
        "\n",
        "A matriz a seguir é referente a rede considerada. Um valor $1$ na posição $(i,j)$ indica uma conexão entre os nós $i$ e $j$; $0$ indica ausência de conexão.\n",
        "\n",
        "\n",
        "\n",
        "A =\n",
        "\\begin{bmatrix}\n",
        "0 & 1 & 1 & 1 & 1 & 1 & 0 & 0 & 0 & 0 & 0 & 0 \\\\\n",
        "1 & 0 & 1 & 1 & 1 & 0 & 0 & 0 & 0 & 0 & 0 & 0 \\\\\n",
        "1 & 1 & 0 & 1 & 1 & 0 & 0 & 0 & 0 & 0 & 0 & 0 \\\\\n",
        "1 & 1 & 1 & 0 & 1 & 0 & 0 & 0 & 0 & 0 & 0 & 0 \\\\\n",
        "1 & 1 & 1 & 1 & 0 & 0 & 0 & 0 & 0 & 0 & 0 & 0 \\\\\n",
        "1 & 0 & 0 & 0 & 0 & 0 & 1 & 1 & 1 & 1 & 1 & 1 \\\\\n",
        "0 & 0 & 0 & 0 & 0 & 1 & 0 & 0 & 0 & 0 & 0 & 0 \\\\\n",
        "0 & 0 & 0 & 0 & 0 & 1 & 0 & 0 & 0 & 0 & 0 & 0 \\\\\n",
        "0 & 0 & 0 & 0 & 0 & 1 & 0 & 0 & 0 & 0 & 0 & 0 \\\\\n",
        "0 & 0 & 0 & 0 & 0 & 1 & 0 & 0 & 0 & 0 & 0 & 0 \\\\\n",
        "0 & 0 & 0 & 0 & 0 & 1 & 0 & 0 & 0 & 0 & 0 & 0 \\\\\n",
        "0 & 0 & 0 & 0 & 0 & 1 & 0 & 0 & 0 & 0 & 0 & 0 \\\\\n",
        "\\end{bmatrix}\n",
        "\n",
        "\n",
        "\n",
        "\n",
        "\n",
        "\n",
        "\n",
        "Com base na estrutura da rede acima, realize as seguintes tarefas:\n",
        "\n",
        "    \n",
        "\n",
        "a)   Calcule a centralidade de grau para cada nó. Liste os nós com maior centralidade de grau.\n",
        "\n",
        "b)   Calcule a centralidade de autovalor para cada nó. Liste os nós com maior centralidade de autovalor.\n",
        "\n",
        "c)   Há nós com alta centralidade de grau mas baixa centralidade de autovalor? Justifique com base na estrutura da rede.\n",
        "\n",
        "\n",
        "d)   Há nós com baixa centralidade de grau mas alta centralidade de autovalor? Explique o motivo.\n",
        "\n",
        "e)   Discuta as diferenças entre as duas centralidades à luz dos resultados obtidos.\n",
        "\n",
        "\n",
        "\n",
        "\n",
        "    \n",
        "    \n",
        "    \n",
        "    \n",
        "\n",
        "\n",
        "\n",
        "\n",
        "\n",
        "\n",
        "\n",
        "\n",
        "\n",
        "\n",
        "\n"
      ],
      "metadata": {
        "id": "SLAkl8MVW1WE"
      }
    },
    {
      "cell_type": "code",
      "source": [
        "# Criar o grafo\n",
        "G =\n",
        "\n",
        "\n",
        "# Calcular centralidades\n",
        "deg_centrality =\n",
        "eig_centrality =\n",
        "\n",
        "# Exibir tabela\n",
        "centrality_df = pd.DataFrame({\n",
        "    \"Grau\": deg_centrality,\n",
        "    \"Autovalor\": eig_centrality\n",
        "}).sort_index().round(4)\n",
        "\n",
        "print(\"Centralidades dos nós:\\n\")\n",
        "print(centrality_df)\n",
        "\n",
        "# Visualizar o grafo\n",
        "\n"
      ],
      "metadata": {
        "id": "rKQ6rpVxFK_V"
      },
      "execution_count": null,
      "outputs": []
    },
    {
      "cell_type": "markdown",
      "source": [
        "# **Exerício 5**\n",
        "\n",
        "Em um cenário onde um analista de dados possui uma coleção de documentos textuais de natureza variada — como notícias, publicações em redes sociais, ou descrições de produtos —, surge a necessidade de identificar automaticamente os **principais temas ou tópicos** abordados nesses textos. Tal tarefa é especialmente relevante em contextos onde os dados são não rotulados e o volume de documentos inviabiliza a análise manual.\n",
        "\n",
        "\n",
        "**Objetivo:**\n",
        "Dado um conjunto de 10 manchetes de notícias, aplicar **Análise Semântica Latente (LSA) via SVD** para identificar **temas comuns** (conceitos latentes) e analisar a relevância de palavras e documentos.\n",
        "\n",
        "---\n",
        "\n",
        "# **Conjunto de manchetes**\n",
        "\n",
        "1. Time vence campeonato nacional\n",
        "2. Jogador é destaque na vitória do time\n",
        "3. Equipe perde final em jogo equilibrado\n",
        "4. Treinador elogia desempenho da equipe\n",
        "5. Jogador marca gol decisivo no campeonato\n",
        "6. Time reage e vence partida importante\n",
        "7. Jogador lidera equipe rumo à final\n",
        "8. Equipe conquista vitória histórica\n",
        "9. Treinador anuncia substituição estratégica\n",
        "10. Jogador decide jogo com gol de empate\n",
        "11. Bolsa de valores sobe após anúncio econômico\n",
        "12. Mercado financeiro reage a nova política fiscal\n",
        "13. Inflação preocupa investidores e governo\n",
        "14. Governo anuncia medidas para controlar inflação\n",
        "15. Mercado de ações fecha em alta\n",
        "16. Valores da bolsa aumentam com relatório positivo\n",
        "17. Investidores reagem à decisão do banco central\n",
        "18. Política econômica impacta mercado financeiro\n",
        "19. Inflação e desemprego influenciam investidores\n",
        "20. Governo divulga plano fiscal detalhado\n",
        "\n",
        "\n",
        "\n",
        "**Procedimento matemático**\n",
        "\n",
        " **Representação:**\n",
        "\n",
        "   * Construir uma **matriz termo-documento** $A \\in \\mathbb{R}^{m \\times 10}$, com linhas correspondendo a **palavras relevantes** (substantivos e verbos de ação) e colunas aos documentos.\n",
        "   * Cada elemento $a_{ij}$ indica a presença ou frequência da palavra $i$ no documento $j$.\n",
        "\n",
        " **Decomposição SVD:**\n",
        "   $\n",
        "   A = U  \\Sigma  V^T\n",
        "   $\n",
        "\n",
        "   * $U \\in \\mathbb{R}^{m \\times r}$: indica a participação das palavras nos conceitos latentes\n",
        "   * $\\Sigma \\in \\mathbb{R}^{r \\times r}$: indica a importância de cada conceito\n",
        "   * $V \\in \\mathbb{R}^{10 \\times r}$: indica a participação dos documentos nos conceitos latentes\n",
        "   * $r = \\text{posto}(A)$\n",
        "\n",
        "\n",
        "a) Qual é o tema dominante no conjunto de manchetes? Qual é secundário?\n",
        "\n",
        "b) Quais palavras (substantivos ou verbos) são mais representativas de cada tema? Liste 5 de cada.\n",
        "\n",
        "c) Quais são os 5 documentos mais representativas de cada tema?\n",
        "\n",
        "d) Como os verbos de ação contribuiram para a distinção entre os temas?\n",
        "\n",
        "\n"
      ],
      "metadata": {
        "id": "sLEV11wfATK3"
      }
    },
    {
      "cell_type": "code",
      "source": [
        "# LSA com SVD em 20 manchetes, vocabulário único e verbos de ação\n",
        "from sklearn.feature_extraction.text import CountVectorizer # você pode usar esta função para montar a matriz termo-documento\n",
        "from sklearn.decomposition import TruncatedSVD\n",
        "\n",
        "\n",
        "# Conjunto de 20 manchetes\n",
        "documents = [\n",
        "    # Esportes\n",
        "    \"Time vence campeonato nacional\",\n",
        "    \"Jogador é destaque na vitória do time\",\n",
        "    \"Equipe perde final em jogo equilibrado\",\n",
        "    \"Treinador elogia desempenho da equipe\",\n",
        "    \"Jogador marca gol decisivo no campeonato\",\n",
        "    \"Time reage e vence partida importante\",\n",
        "    \"Jogador lidera equipe rumo à final\",\n",
        "    \"Equipe conquista vitória histórica\",\n",
        "    \"Treinador anuncia substituição estratégica\",\n",
        "    \"Jogador decide jogo com gol de empate\",\n",
        "    # Economia\n",
        "    \"Bolsa de valores sobe após anúncio econômico\",\n",
        "    \"Mercado financeiro reage a nova política fiscal\",\n",
        "    \"Inflação preocupa investidores e governo\",\n",
        "    \"Governo anuncia medidas para controlar inflação\",\n",
        "    \"Mercado de ações fecha em alta\",\n",
        "    \"Valores da bolsa aumentam com relatório positivo\",\n",
        "    \"Investidores reagem à decisão do banco central\",\n",
        "    \"Política econômica impacta mercado financeiro\",\n",
        "    \"Inflação e desemprego influenciam investidores\",\n",
        "    \"Governo divulga plano fiscal detalhado\"\n",
        "]\n",
        "\n",
        "# Vocabulário restrito a palavras-chave (substantivos + verbos de ação), sem duplicatas\n",
        "vocabulary = [\n",
        "    # Esportes\n",
        "    \"time\", \"jogador\", \"campeonato\", \"vitória\", \"equipe\", \"final\", \"jogo\", \"treinador\", \"gol\",\n",
        "    \"vence\", \"marca\", \"perde\", \"reage\", \"decide\", \"conquista\", \"anuncia\", \"lidera\", \"substituição\",\n",
        "    # Economia\n",
        "    \"bolsa\", \"valores\", \"mercado\", \"financeiro\", \"inflação\", \"investidores\", \"governo\",\n",
        "    \"sobe\", \"preocupa\", \"divulga\", \"impacta\", \"aumentam\", \"decisão\", \"plano\"\n",
        "]\n",
        "\n",
        "#Matriz termo-documento (contagem simples)\n",
        "\n",
        "\n",
        "# Aplicar SVD (LSA)\n",
        "k = 2  # número de temas latentes\n",
        "\n",
        "\n",
        "# Palavras mais importantes por tema\n",
        "n_top_words = 5\n",
        "\n",
        "\n",
        "\n",
        "# Documentos mais associados a cada tema\n",
        "n_top_docs = 5\n"
      ],
      "metadata": {
        "id": "ia8BMEku3iqQ"
      },
      "execution_count": null,
      "outputs": []
    }
  ]
}