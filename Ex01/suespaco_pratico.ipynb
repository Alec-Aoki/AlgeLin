{
  "cells": [
    {
      "cell_type": "markdown",
      "metadata": {
        "id": "6tqurAXg9AGv"
      },
      "source": [
        "\n",
        "\n",
        "\n",
        "\n",
        "#### Exercício - Subespaço Gerado\n",
        "\n",
        "Seja $W$ o subespaço de $M_{3\\times2}(\\mathbb{R})$ gerado pelas matrizes\n",
        "\n",
        "$$A_1 = \\begin{bmatrix} 0 & 0 \\\\ 1 & 1 \\\\ 0 & 0 \\end{bmatrix} , \\;\n",
        "A_2 = \\begin{bmatrix} 0 & 1 \\\\ 0 & -1 \\\\ 1 & 0 \\end{bmatrix} \\; \\text{e} \\;\n",
        "A_3 = \\begin{bmatrix} 0 & 1 \\\\ 0 & 0 \\\\ 0 & 0 \\end{bmatrix} .$$\n",
        "\n",
        "Implemente um código para verificar se a matriz $$A = \\begin{bmatrix} 0 & 2 \\\\ 3 & 4 \\\\ 5 & 0 \\end{bmatrix}$$ pertence ao subespaço $W$."
      ]
    },
    {
      "cell_type": "code",
      "execution_count": 16,
      "metadata": {
        "id": "cvmyH0YJZOpk"
      },
      "outputs": [],
      "source": [
        "import numpy as np\n",
        "\n",
        "A1 = np.array([[0,0],[1,1],[0,0]])\n",
        "A2 = np.array([[0,1],[0,-1],[1,0]])\n",
        "A3 = np.array([[0,1],[0,0],[0,0]])\n",
        "A = np.array([[0,2],[3,4],[5,0]])\n",
        "\n"
      ]
    },
    {
      "cell_type": "markdown",
      "metadata": {},
      "source": [
        "A matriz $A$ pertencerá a $W$ se ela for combinação linear de $A_1$, $A_2$ e $A_3$, ou seja:\n",
        "\\begin{align}\n",
        "    (0,2) &= \\alpha (0,0) + \\beta (0,1) + \\theta (0,1) \\\\\n",
        "    (3,4) &= \\alpha (1,1) + \\beta (0,-1) + \\theta (0,0) \\\\\n",
        "    (5,0) &= \\alpha (0,0) + \\beta (1,0) + \\theta (0,0)\n",
        "\\end{align}"
      ]
    }
  ],
  "metadata": {
    "colab": {
      "provenance": []
    },
    "kernelspec": {
      "display_name": "Python 3",
      "name": "python3"
    },
    "language_info": {
      "codemirror_mode": {
        "name": "ipython",
        "version": 3
      },
      "file_extension": ".py",
      "mimetype": "text/x-python",
      "name": "python",
      "nbconvert_exporter": "python",
      "pygments_lexer": "ipython3",
      "version": "3.10.12"
    }
  },
  "nbformat": 4,
  "nbformat_minor": 0
}
