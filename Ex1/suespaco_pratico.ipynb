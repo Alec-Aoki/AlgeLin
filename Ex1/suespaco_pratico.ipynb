{
  "cells": [
    {
      "cell_type": "markdown",
      "metadata": {
        "id": "6tqurAXg9AGv"
      },
      "source": [
        "\n",
        "\n",
        "\n",
        "\n",
        "#### Exercício - Subespaço Gerado\n",
        "\n",
        "Seja $W$ o subespaço de $M_{3\\times2}(\\mathbb{R})$ gerado pelas matrizes\n",
        "\n",
        "$$A_1 = \\begin{bmatrix} 0 & 0 \\\\ 1 & 1 \\\\ 0 & 0 \\end{bmatrix} , \\;\n",
        "A_2 = \\begin{bmatrix} 0 & 1 \\\\ 0 & -1 \\\\ 1 & 0 \\end{bmatrix} \\; \\text{e} \\;\n",
        "A_3 = \\begin{bmatrix} 0 & 1 \\\\ 0 & 0 \\\\ 0 & 0 \\end{bmatrix} .$$\n",
        "\n",
        "Implemente um código para verificar se a matriz $$A = \\begin{bmatrix} 0 & 2 \\\\ 3 & 4 \\\\ 5 & 0 \\end{bmatrix}$$ pertence ao subespaço $W$."
      ]
    },
    {
      "cell_type": "code",
      "execution_count": 12,
      "metadata": {
        "id": "cvmyH0YJZOpk"
      },
      "outputs": [
        {
          "name": "stdout",
          "output_type": "stream",
          "text": [
            "A1:  [[0 0]\n",
            " [1 1]\n",
            " [0 0]]\n",
            "A2:  [[ 0  1]\n",
            " [ 0 -1]\n",
            " [ 1  0]]\n",
            "A3:  [[0 1]\n",
            " [0 0]\n",
            " [0 0]]\n",
            "A :  [[0 2]\n",
            " [3 4]\n",
            " [5 0]]\n"
          ]
        }
      ],
      "source": [
        "import numpy as np\n",
        "\n",
        "A1 = np.array([[0,0], [1,1], [0,0]])\n",
        "A2 = np.array([[0,1], [0,-1], [1,0]])\n",
        "A3 = np.array([[0,1], [0,0], [0,0]])\n",
        "A = np.array([[0,2], [3,4], [5,0]])\n",
        "\n",
        "print(\"A1: \", A1)\n",
        "print(\"A2: \", A2)\n",
        "print(\"A3: \", A3)\n",
        "print(\"A : \", A)"
      ]
    },
    {
      "cell_type": "markdown",
      "metadata": {},
      "source": [
        "Matrizes na forma de vetores de vetores."
      ]
    },
    {
      "cell_type": "code",
      "execution_count": 30,
      "metadata": {},
      "outputs": [
        {
          "name": "stdout",
          "output_type": "stream",
          "text": [
            "A1:  [0 0 1 1 0 0]\n",
            "A2:  [ 0  1  0 -1  1  0]\n",
            "A3:  [0 1 0 0 0 0]\n",
            "A :  [0 2 3 4 5 0]\n"
          ]
        }
      ],
      "source": [
        "A1 = A1.flatten()\n",
        "A2 = A2.flatten()\n",
        "A3 = A3.flatten()\n",
        "A = A.flatten()\n",
        "\n",
        "print(\"A1: \", A1)\n",
        "print(\"A2: \", A2)\n",
        "print(\"A3: \", A3)\n",
        "print(\"A : \", A)"
      ]
    },
    {
      "cell_type": "markdown",
      "metadata": {},
      "source": [
        "A função flatten reduz uma dimensão das matrizes, transformando-as em um vetor simples (dimensão 1), necessário para usarmos o linalg.solve (matrizes quadradas)."
      ]
    },
    {
      "cell_type": "code",
      "execution_count": 33,
      "metadata": {},
      "outputs": [
        {
          "name": "stdout",
          "output_type": "stream",
          "text": [
            "M:  [[ 0  0  0]\n",
            " [ 0  1  1]\n",
            " [ 1  0  0]\n",
            " [ 1 -1  0]\n",
            " [ 0  1  0]\n",
            " [ 0  0  0]]\n",
            "A :  [0 2 3 4 5 0]\n"
          ]
        }
      ],
      "source": [
        "M = np.column_stack([A1, A2, A3])\n",
        "\n",
        "print(\"M: \", M)\n",
        "print(\"A : \", A)"
      ]
    },
    {
      "cell_type": "code",
      "execution_count": 34,
      "metadata": {},
      "outputs": [
        {
          "ename": "LinAlgError",
          "evalue": "Last 2 dimensions of the array must be square",
          "output_type": "error",
          "traceback": [
            "\u001b[0;31m---------------------------------------------------------------------------\u001b[0m",
            "\u001b[0;31mLinAlgError\u001b[0m                               Traceback (most recent call last)",
            "Cell \u001b[0;32mIn[34], line 1\u001b[0m\n\u001b[0;32m----> 1\u001b[0m \u001b[38;5;28mprint\u001b[39m(\u001b[43mnp\u001b[49m\u001b[38;5;241;43m.\u001b[39;49m\u001b[43mlinalg\u001b[49m\u001b[38;5;241;43m.\u001b[39;49m\u001b[43msolve\u001b[49m\u001b[43m(\u001b[49m\u001b[43mM\u001b[49m\u001b[43m,\u001b[49m\u001b[43m \u001b[49m\u001b[43mA\u001b[49m\u001b[43m)\u001b[49m)\n",
            "File \u001b[0;32m~/.local/lib/python3.10/site-packages/numpy/linalg/_linalg.py:396\u001b[0m, in \u001b[0;36msolve\u001b[0;34m(a, b)\u001b[0m\n\u001b[1;32m    394\u001b[0m a, _ \u001b[38;5;241m=\u001b[39m _makearray(a)\n\u001b[1;32m    395\u001b[0m _assert_stacked_2d(a)\n\u001b[0;32m--> 396\u001b[0m \u001b[43m_assert_stacked_square\u001b[49m\u001b[43m(\u001b[49m\u001b[43ma\u001b[49m\u001b[43m)\u001b[49m\n\u001b[1;32m    397\u001b[0m b, wrap \u001b[38;5;241m=\u001b[39m _makearray(b)\n\u001b[1;32m    398\u001b[0m t, result_t \u001b[38;5;241m=\u001b[39m _commonType(a, b)\n",
            "File \u001b[0;32m~/.local/lib/python3.10/site-packages/numpy/linalg/_linalg.py:202\u001b[0m, in \u001b[0;36m_assert_stacked_square\u001b[0;34m(*arrays)\u001b[0m\n\u001b[1;32m    200\u001b[0m m, n \u001b[38;5;241m=\u001b[39m a\u001b[38;5;241m.\u001b[39mshape[\u001b[38;5;241m-\u001b[39m\u001b[38;5;241m2\u001b[39m:]\n\u001b[1;32m    201\u001b[0m \u001b[38;5;28;01mif\u001b[39;00m m \u001b[38;5;241m!=\u001b[39m n:\n\u001b[0;32m--> 202\u001b[0m     \u001b[38;5;28;01mraise\u001b[39;00m LinAlgError(\u001b[38;5;124m'\u001b[39m\u001b[38;5;124mLast 2 dimensions of the array must be square\u001b[39m\u001b[38;5;124m'\u001b[39m)\n",
            "\u001b[0;31mLinAlgError\u001b[0m: Last 2 dimensions of the array must be square"
          ]
        }
      ],
      "source": [
        "print(np.linalg.solve(M, A))"
      ]
    },
    {
      "cell_type": "markdown",
      "metadata": {},
      "source": [
        "Não funciona pois temos mais equações que variáveis (linalg.solve só resolve equações lineares definidas)."
      ]
    },
    {
      "cell_type": "code",
      "execution_count": 39,
      "metadata": {},
      "outputs": [
        {
          "name": "stdout",
          "output_type": "stream",
          "text": [
            "[ 5.  3. -1.]\n",
            "[12.]\n"
          ]
        }
      ],
      "source": [
        "resposta, residuos, _, _ = np.linalg.lstsq(M, A)\n",
        "print(resposta)\n",
        "print(residuos)"
      ]
    },
    {
      "cell_type": "markdown",
      "metadata": {},
      "source": [
        "A presença de resíduos (residuos != 0) indica que há um erro entre o valor obtido e real, o que indica que o sistema não tem solução. Disso temos que A não pertence ao subespaço W."
      ]
    }
  ],
  "metadata": {
    "colab": {
      "provenance": []
    },
    "kernelspec": {
      "display_name": "Python 3",
      "name": "python3"
    },
    "language_info": {
      "codemirror_mode": {
        "name": "ipython",
        "version": 3
      },
      "file_extension": ".py",
      "mimetype": "text/x-python",
      "name": "python",
      "nbconvert_exporter": "python",
      "pygments_lexer": "ipython3",
      "version": "3.10.12"
    }
  },
  "nbformat": 4,
  "nbformat_minor": 0
}
