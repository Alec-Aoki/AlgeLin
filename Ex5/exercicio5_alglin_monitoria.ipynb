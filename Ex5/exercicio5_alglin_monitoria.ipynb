{
  "cells": [
    {
      "cell_type": "code",
      "execution_count": 1,
      "metadata": {},
      "outputs": [],
      "source": [
        "# Import das bibliotecas\n",
        "import numpy as np"
      ]
    },
    {
      "cell_type": "markdown",
      "metadata": {
        "id": "mGsa45M5zkAV"
      },
      "source": [
        "**Exercício 01**\n",
        "\n",
        "Construa o operador linear diagonalizável $T:\\mathbb{R}^3 \\to \\mathbb{R}^3$ que tenha $2$ e $9$ como autovalores de modo que os autoespaços sejam $V(2) = [(1,2,0),(0,6,1)]$ e $V(9) = [(1,1,1)]$."
      ]
    },
    {
      "cell_type": "code",
      "execution_count": 2,
      "metadata": {
        "id": "hIdWTV5Lzs-O"
      },
      "outputs": [],
      "source": [
        "# Autovalores\n",
        "v_1 = 2\n",
        "v_2 = 9\n",
        "\n",
        "# Autovetores\n",
        "V_2 = np.array([[1,2,0],[0,6,1]])\n",
        "V_9 = np.array([[1,1,1]])"
      ]
    },
    {
      "cell_type": "code",
      "execution_count": 3,
      "metadata": {},
      "outputs": [
        {
          "name": "stdout",
          "output_type": "stream",
          "text": [
            "[[1 0 1]\n",
            " [2 6 1]\n",
            " [0 1 1]]\n"
          ]
        }
      ],
      "source": [
        "# Matriz coluna dos autovetores\n",
        "P = np.column_stack([V_2[0], V_2[1], V_9[0]])\n",
        "\n",
        "print(P)"
      ]
    },
    {
      "cell_type": "code",
      "execution_count": 4,
      "metadata": {},
      "outputs": [
        {
          "name": "stdout",
          "output_type": "stream",
          "text": [
            "[[2 0 0]\n",
            " [0 2 0]\n",
            " [0 0 9]]\n"
          ]
        }
      ],
      "source": [
        "# Matriz diagonal dos autovalores\n",
        "D = np.diag([2,2,9])\n",
        "\n",
        "print(D)"
      ]
    },
    {
      "cell_type": "code",
      "execution_count": 5,
      "metadata": {},
      "outputs": [
        {
          "name": "stdout",
          "output_type": "stream",
          "text": [
            "[[ 4. -1.  6.]\n",
            " [ 2.  1.  6.]\n",
            " [ 2. -1.  8.]]\n"
          ]
        }
      ],
      "source": [
        "# T = P . D . P⁻¹\n",
        "T = P @ D @ np.linalg.inv(P)\n",
        "\n",
        "print(T)"
      ]
    },
    {
      "cell_type": "code",
      "execution_count": 6,
      "metadata": {},
      "outputs": [
        {
          "name": "stdout",
          "output_type": "stream",
          "text": [
            "v1 =  [1 2 0]\n",
            "T(v1) =  [2. 4. 0.]\n",
            "2*v1 =  [2 4 0]\n"
          ]
        }
      ],
      "source": [
        "# Verificando\n",
        "v1 = V_2[0]\n",
        "Tv1 = T @ v1\n",
        "lambda_v1 = v_1 * v1\n",
        "\n",
        "print(\"v1 = \", v1)\n",
        "print(\"T(v1) = \", Tv1)\n",
        "print(\"2*v1 = \", lambda_v1)"
      ]
    },
    {
      "cell_type": "code",
      "execution_count": 7,
      "metadata": {},
      "outputs": [
        {
          "name": "stdout",
          "output_type": "stream",
          "text": [
            "v2 =  [0 6 1]\n",
            "T(v2) =  [ 0. 12.  2.]\n",
            "2*v2 =  [ 0 12  2]\n"
          ]
        }
      ],
      "source": [
        "# Verificando\n",
        "v2 = V_2[1]\n",
        "Tv2 = T @ v2\n",
        "lambda_v2 = v_1 * v2\n",
        "\n",
        "print(\"v2 = \", v2)\n",
        "print(\"T(v2) = \", Tv2)\n",
        "print(\"2*v2 = \", lambda_v2)"
      ]
    },
    {
      "cell_type": "code",
      "execution_count": 8,
      "metadata": {},
      "outputs": [
        {
          "name": "stdout",
          "output_type": "stream",
          "text": [
            "v3 =  [1 1 1]\n",
            "T(v3) =  [9. 9. 9.]\n",
            "9*v3 =  [9 9 9]\n"
          ]
        }
      ],
      "source": [
        "# Verificando\n",
        "v3 = V_9[0]\n",
        "Tv3 = T @ v3\n",
        "lambda_v3 = v_2 * v3\n",
        "\n",
        "print(\"v3 = \", v3)\n",
        "print(\"T(v3) = \", Tv3)\n",
        "print(\"9*v3 = \", lambda_v3)"
      ]
    },
    {
      "cell_type": "markdown",
      "metadata": {
        "id": "xVoknYO6ztS9"
      },
      "source": [
        "**Exercício 02**\n",
        "\n",
        "Construa uma transformação linear que mapeia o vetor $\\mathbf{v}=[1,1,1,1,1]\\in\\mathbb{R}^5$ nele mesmo, ou seja, a transformação deve satisfazer $\\mathbf{A}\\mathbf{v}=\\mathbf{v}$."
      ]
    },
    {
      "cell_type": "code",
      "execution_count": 9,
      "metadata": {
        "id": "mVRq6DPTzzGV"
      },
      "outputs": [
        {
          "name": "stdout",
          "output_type": "stream",
          "text": [
            "[[1. 0. 0. 0. 0.]\n",
            " [0. 1. 0. 0. 0.]\n",
            " [0. 0. 1. 0. 0.]\n",
            " [0. 0. 0. 1. 0.]\n",
            " [0. 0. 0. 0. 1.]]\n"
          ]
        }
      ],
      "source": [
        "v = np.array([1,1,1,1,1])\n",
        "\n",
        "# Matriz identidade 5x5\n",
        "I = np.eye(5)\n",
        "\n",
        "print(I)\n"
      ]
    },
    {
      "cell_type": "code",
      "execution_count": 10,
      "metadata": {},
      "outputs": [
        {
          "name": "stdout",
          "output_type": "stream",
          "text": [
            "v =  [1 1 1 1 1]\n",
            "T(v) =  [1. 1. 1. 1. 1.]\n"
          ]
        }
      ],
      "source": [
        "# Transformação\n",
        "Tv = I @ v\n",
        "\n",
        "print(\"v = \", v)\n",
        "print(\"T(v) = \", Tv)"
      ]
    }
  ],
  "metadata": {
    "colab": {
      "provenance": []
    },
    "kernelspec": {
      "display_name": "Python 3",
      "name": "python3"
    },
    "language_info": {
      "codemirror_mode": {
        "name": "ipython",
        "version": 3
      },
      "file_extension": ".py",
      "mimetype": "text/x-python",
      "name": "python",
      "nbconvert_exporter": "python",
      "pygments_lexer": "ipython3",
      "version": "3.10.12"
    }
  },
  "nbformat": 4,
  "nbformat_minor": 0
}
